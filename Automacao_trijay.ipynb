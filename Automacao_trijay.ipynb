{
 "cells": [
  {
   "cell_type": "markdown",
   "id": "ba773ed3",
   "metadata": {},
   "source": [
    "### Automatizando a apuração de resultados Trijay"
   ]
  },
  {
   "cell_type": "code",
   "execution_count": 3,
   "id": "012b83e1",
   "metadata": {},
   "outputs": [],
   "source": [
    "# Trabalhando com o Selenium\n",
    "from selenium import webdriver\n",
    "from selenium.webdriver.common.keys import Keys\n",
    "\n",
    "#Importando as bibliotecas necessárias\n",
    "import pyautogui\n",
    "import time\n",
    "import pyperclip\n",
    "\n",
    "# Biblioteca para mover arquivos\n",
    "import shutil\n",
    "\n",
    "# Biblioteca para esconder a senha\n",
    "import getpass\n",
    "\n",
    "# Biblioteca para remover arquivo\n",
    "import os\n",
    "\n",
    "# Importar bibliotecas para tratar HTML como dados\n",
    "import pandas as pd\n",
    "import requests\n",
    "from bs4 import BeautifulSoup\n"
   ]
  },
  {
   "cell_type": "code",
   "execution_count": 4,
   "id": "16f2e541",
   "metadata": {},
   "outputs": [
    {
     "name": "stdout",
     "output_type": "stream",
     "text": [
      "Usuário SGP: coliveira@trijay.com.br\n",
      "Senha: ········\n",
      "Qual a data inicial: sf\n",
      "Qual a data final: safd\n",
      "Insira o mês: fdsad\n"
     ]
    }
   ],
   "source": [
    "#Inserindo dados para inicio do processo.\n",
    "\n",
    "user_sgp = input('Usuário SGP: ')\n",
    "\n",
    "#Regra para verificar se esté e-mail é valido. Validando se consta @ e o ponto \n",
    "#loop para colocar o e-mail correto\n",
    "condicao = True    \n",
    "while condicao:\n",
    "    if user_sgp:\n",
    "        pos_a = user_sgp.find('@') #localizando o @ na digitação\n",
    "        servidor = user_sgp[pos_a:] #Pegar todos caracteres que vem depois do @ (user_sgp - digitação / [pos_a]posição do @ para frente até o final)\n",
    "        \n",
    "        if pos_a != -1 and '.' in servidor:  #significa que se ele achou o @ dentro do texto e verificou se tem ponto no nome do email\n",
    "            condicao = False\n",
    "        else: \n",
    "            print('Usuário precisar ser o email correto com @ e ponto: ')\n",
    "            user_sgp = input('Usuário SGP: ')\n",
    "        \n",
    "  \n",
    "   \n",
    "#Utilizando o getpass para esconder a senha\n",
    "senha_sgp = getpass.getpass('Senha: ')\n",
    "\n",
    "data_inicio = input('Qual a data inicial: ')\n",
    "#Regra para tada de inicio\n",
    "\n",
    "data_fim = input('Qual a data final: ')\n",
    "mes_arquivo = input('Insira o mês: ')"
   ]
  },
  {
   "cell_type": "code",
   "execution_count": 5,
   "id": "b9bb4fcb",
   "metadata": {},
   "outputs": [
    {
     "name": "stderr",
     "output_type": "stream",
     "text": [
      "<ipython-input-5-68831c333d7b>:8: DeprecationWarning: use options instead of chrome_options\n",
      "  driver = webdriver.Chrome(chrome_options=chrome_options)\n"
     ]
    }
   ],
   "source": [
    "# Abrir o navegador\n",
    "\n",
    "# navegador = webdriver.Chrome() para abrir na janela private\n",
    "chrome_options = webdriver.ChromeOptions()\n",
    "chrome_options.add_argument(\"--incognito\")\n",
    "chrome_options.add_argument(\"start-maximized\")\n",
    "\n",
    "driver = webdriver.Chrome(chrome_options=chrome_options)\n",
    "\n",
    "# Abrir um navegador - Só estou conseguindo no Chrome\n",
    "# navegador = webdriver.Chrome()"
   ]
  },
  {
   "cell_type": "code",
   "execution_count": 6,
   "id": "d2ba7fde",
   "metadata": {},
   "outputs": [],
   "source": [
    "# Abrir o navegador\n",
    "driver.get(\"http://sgp.trijay.com.br/desktopdefault.aspx?ReturnUrl=%2fTimeEntry.aspx\")\n",
    "# Buscar um metodo e fazer login\n",
    "driver.find_element_by_xpath('/html/body/form/table[2]/tbody/tr[1]/td[2]/table/tbody/tr[2]/td[2]/table/tbody/tr[4]/td/input').send_keys(user_sgp)\n",
    "driver.find_element_by_xpath('/html/body/form/table[2]/tbody/tr[1]/td[2]/table/tbody/tr[2]/td[2]/table/tbody/tr[4]/td/input').send_keys(Keys.ENTER)\n",
    "driver.find_element_by_xpath('/html/body/form/table[2]/tbody/tr[1]/td[2]/table/tbody/tr[2]/td[2]/table/tbody/tr[6]/td/input').send_keys(senha_sgp)\n",
    "driver.find_element_by_xpath('/html/body/form/table[2]/tbody/tr[1]/td[2]/table/tbody/tr[2]/td[2]/table/tbody/tr[6]/td/input').send_keys(Keys.ENTER)\n",
    "\n"
   ]
  },
  {
   "cell_type": "markdown",
   "id": "c07f0e29",
   "metadata": {},
   "source": [
    "#### Aqui vou abrir o Browser utilizando o pyautogui, chamando o windows e o Edge, dou um enter, espero 2 segundos e dou o atalho para abrir em modo privado\n",
    "\n",
    "pyautogui.press('win')<br>\n",
    "pyautogui.write('Edge')<br>\n",
    "pyautogui.press('enter')<br>\n",
    "time.sleep(2)<br>\n",
    "pyautogui.hotkey('CTRL','SHIFT','N')<br>"
   ]
  },
  {
   "cell_type": "markdown",
   "id": "e18558e6",
   "metadata": {},
   "source": [
    "#### Inserindo os dados da url e dados de login utilizando o pyoutogui... funcionou bem!\n",
    "\n",
    "link = 'http://sgp.trijay.com.br/desktopdefault.aspx?ReturnUrl=%2fTimeEntry.aspx'<br>\n",
    "pyperclip.copy(link)<br>\n",
    "pyautogui.hotkey('CTRL','V')<br>\n",
    "pyautogui.press('enter')<br>\n",
    "time.sleep(3)<br>\n",
    "pyautogui.write(r'coliveira@trijay.com.br')<br>\n",
    "pyautogui.press('enter')<br>\n",
    "pyautogui.press('tab')<br>\n",
    "time.sleep(2)<br>\n",
    "pyautogui.write('c3f5o2g1')<br>\n",
    "time.sleep(3)<br>\n",
    "pyautogui.press('enter')<br>"
   ]
  },
  {
   "cell_type": "markdown",
   "id": "9f3adac0",
   "metadata": {},
   "source": [
    "##Utilizando o Selenium para fazer a seleção dos campos"
   ]
  },
  {
   "cell_type": "code",
   "execution_count": 7,
   "id": "b564ddda",
   "metadata": {},
   "outputs": [
    {
     "ename": "NoSuchElementException",
     "evalue": "Message: no such element: Unable to locate element: {\"method\":\"xpath\",\"selector\":\"/html/body/form/table[2]/tbody/tr[1]/td[1]/table/tbody/tr/td/table/tbody/tr[8]/td/table/tbody/tr[1]/td\"}\n  (Session info: chrome=92.0.4515.159)\n",
     "output_type": "error",
     "traceback": [
      "\u001b[1;31m---------------------------------------------------------------------------\u001b[0m",
      "\u001b[1;31mNoSuchElementException\u001b[0m                    Traceback (most recent call last)",
      "\u001b[1;32m<ipython-input-7-ef2593357c12>\u001b[0m in \u001b[0;36m<module>\u001b[1;34m\u001b[0m\n\u001b[0;32m      1\u001b[0m \u001b[1;31m# Buscar na tela o botão para executar o relátorio\u001b[0m\u001b[1;33m\u001b[0m\u001b[1;33m\u001b[0m\u001b[1;33m\u001b[0m\u001b[0m\n\u001b[1;32m----> 2\u001b[1;33m \u001b[0mdriver\u001b[0m\u001b[1;33m.\u001b[0m\u001b[0mfind_element_by_xpath\u001b[0m\u001b[1;33m(\u001b[0m\u001b[1;34m'/html/body/form/table[2]/tbody/tr[1]/td[1]/table/tbody/tr/td/table/tbody/tr[8]/td/table/tbody/tr[1]/td'\u001b[0m\u001b[1;33m)\u001b[0m\u001b[1;33m.\u001b[0m\u001b[0mclick\u001b[0m\u001b[1;33m(\u001b[0m\u001b[1;33m)\u001b[0m\u001b[1;33m\u001b[0m\u001b[1;33m\u001b[0m\u001b[0m\n\u001b[0m\u001b[0;32m      3\u001b[0m \u001b[1;33m\u001b[0m\u001b[0m\n\u001b[0;32m      4\u001b[0m \u001b[1;31m# Selecionar todos os projetos na tela\u001b[0m\u001b[1;33m\u001b[0m\u001b[1;33m\u001b[0m\u001b[1;33m\u001b[0m\u001b[0m\n\u001b[0;32m      5\u001b[0m \u001b[0mdriver\u001b[0m\u001b[1;33m.\u001b[0m\u001b[0mfind_element_by_xpath\u001b[0m\u001b[1;33m(\u001b[0m\u001b[1;34m'/html/body/form/table[2]/tbody/tr[1]/td[4]/table/tbody/tr/td[1]/table/tbody/tr/td/table[1]/tbody/tr[2]/td[2]/table/tbody/tr/td[1]/a'\u001b[0m\u001b[1;33m)\u001b[0m\u001b[1;33m.\u001b[0m\u001b[0mclick\u001b[0m\u001b[1;33m(\u001b[0m\u001b[1;33m)\u001b[0m\u001b[1;33m\u001b[0m\u001b[1;33m\u001b[0m\u001b[0m\n",
      "\u001b[1;32m~\\anaconda3\\lib\\site-packages\\selenium\\webdriver\\remote\\webdriver.py\u001b[0m in \u001b[0;36mfind_element_by_xpath\u001b[1;34m(self, xpath)\u001b[0m\n\u001b[0;32m    392\u001b[0m             \u001b[0melement\u001b[0m \u001b[1;33m=\u001b[0m \u001b[0mdriver\u001b[0m\u001b[1;33m.\u001b[0m\u001b[0mfind_element_by_xpath\u001b[0m\u001b[1;33m(\u001b[0m\u001b[1;34m'//div/td[1]'\u001b[0m\u001b[1;33m)\u001b[0m\u001b[1;33m\u001b[0m\u001b[1;33m\u001b[0m\u001b[0m\n\u001b[0;32m    393\u001b[0m         \"\"\"\n\u001b[1;32m--> 394\u001b[1;33m         \u001b[1;32mreturn\u001b[0m \u001b[0mself\u001b[0m\u001b[1;33m.\u001b[0m\u001b[0mfind_element\u001b[0m\u001b[1;33m(\u001b[0m\u001b[0mby\u001b[0m\u001b[1;33m=\u001b[0m\u001b[0mBy\u001b[0m\u001b[1;33m.\u001b[0m\u001b[0mXPATH\u001b[0m\u001b[1;33m,\u001b[0m \u001b[0mvalue\u001b[0m\u001b[1;33m=\u001b[0m\u001b[0mxpath\u001b[0m\u001b[1;33m)\u001b[0m\u001b[1;33m\u001b[0m\u001b[1;33m\u001b[0m\u001b[0m\n\u001b[0m\u001b[0;32m    395\u001b[0m \u001b[1;33m\u001b[0m\u001b[0m\n\u001b[0;32m    396\u001b[0m     \u001b[1;32mdef\u001b[0m \u001b[0mfind_elements_by_xpath\u001b[0m\u001b[1;33m(\u001b[0m\u001b[0mself\u001b[0m\u001b[1;33m,\u001b[0m \u001b[0mxpath\u001b[0m\u001b[1;33m)\u001b[0m\u001b[1;33m:\u001b[0m\u001b[1;33m\u001b[0m\u001b[1;33m\u001b[0m\u001b[0m\n",
      "\u001b[1;32m~\\anaconda3\\lib\\site-packages\\selenium\\webdriver\\remote\\webdriver.py\u001b[0m in \u001b[0;36mfind_element\u001b[1;34m(self, by, value)\u001b[0m\n\u001b[0;32m    974\u001b[0m                 \u001b[0mby\u001b[0m \u001b[1;33m=\u001b[0m \u001b[0mBy\u001b[0m\u001b[1;33m.\u001b[0m\u001b[0mCSS_SELECTOR\u001b[0m\u001b[1;33m\u001b[0m\u001b[1;33m\u001b[0m\u001b[0m\n\u001b[0;32m    975\u001b[0m                 \u001b[0mvalue\u001b[0m \u001b[1;33m=\u001b[0m \u001b[1;34m'[name=\"%s\"]'\u001b[0m \u001b[1;33m%\u001b[0m \u001b[0mvalue\u001b[0m\u001b[1;33m\u001b[0m\u001b[1;33m\u001b[0m\u001b[0m\n\u001b[1;32m--> 976\u001b[1;33m         return self.execute(Command.FIND_ELEMENT, {\n\u001b[0m\u001b[0;32m    977\u001b[0m             \u001b[1;34m'using'\u001b[0m\u001b[1;33m:\u001b[0m \u001b[0mby\u001b[0m\u001b[1;33m,\u001b[0m\u001b[1;33m\u001b[0m\u001b[1;33m\u001b[0m\u001b[0m\n\u001b[0;32m    978\u001b[0m             'value': value})['value']\n",
      "\u001b[1;32m~\\anaconda3\\lib\\site-packages\\selenium\\webdriver\\remote\\webdriver.py\u001b[0m in \u001b[0;36mexecute\u001b[1;34m(self, driver_command, params)\u001b[0m\n\u001b[0;32m    319\u001b[0m         \u001b[0mresponse\u001b[0m \u001b[1;33m=\u001b[0m \u001b[0mself\u001b[0m\u001b[1;33m.\u001b[0m\u001b[0mcommand_executor\u001b[0m\u001b[1;33m.\u001b[0m\u001b[0mexecute\u001b[0m\u001b[1;33m(\u001b[0m\u001b[0mdriver_command\u001b[0m\u001b[1;33m,\u001b[0m \u001b[0mparams\u001b[0m\u001b[1;33m)\u001b[0m\u001b[1;33m\u001b[0m\u001b[1;33m\u001b[0m\u001b[0m\n\u001b[0;32m    320\u001b[0m         \u001b[1;32mif\u001b[0m \u001b[0mresponse\u001b[0m\u001b[1;33m:\u001b[0m\u001b[1;33m\u001b[0m\u001b[1;33m\u001b[0m\u001b[0m\n\u001b[1;32m--> 321\u001b[1;33m             \u001b[0mself\u001b[0m\u001b[1;33m.\u001b[0m\u001b[0merror_handler\u001b[0m\u001b[1;33m.\u001b[0m\u001b[0mcheck_response\u001b[0m\u001b[1;33m(\u001b[0m\u001b[0mresponse\u001b[0m\u001b[1;33m)\u001b[0m\u001b[1;33m\u001b[0m\u001b[1;33m\u001b[0m\u001b[0m\n\u001b[0m\u001b[0;32m    322\u001b[0m             response['value'] = self._unwrap_value(\n\u001b[0;32m    323\u001b[0m                 response.get('value', None))\n",
      "\u001b[1;32m~\\anaconda3\\lib\\site-packages\\selenium\\webdriver\\remote\\errorhandler.py\u001b[0m in \u001b[0;36mcheck_response\u001b[1;34m(self, response)\u001b[0m\n\u001b[0;32m    240\u001b[0m                 \u001b[0malert_text\u001b[0m \u001b[1;33m=\u001b[0m \u001b[0mvalue\u001b[0m\u001b[1;33m[\u001b[0m\u001b[1;34m'alert'\u001b[0m\u001b[1;33m]\u001b[0m\u001b[1;33m.\u001b[0m\u001b[0mget\u001b[0m\u001b[1;33m(\u001b[0m\u001b[1;34m'text'\u001b[0m\u001b[1;33m)\u001b[0m\u001b[1;33m\u001b[0m\u001b[1;33m\u001b[0m\u001b[0m\n\u001b[0;32m    241\u001b[0m             \u001b[1;32mraise\u001b[0m \u001b[0mexception_class\u001b[0m\u001b[1;33m(\u001b[0m\u001b[0mmessage\u001b[0m\u001b[1;33m,\u001b[0m \u001b[0mscreen\u001b[0m\u001b[1;33m,\u001b[0m \u001b[0mstacktrace\u001b[0m\u001b[1;33m,\u001b[0m \u001b[0malert_text\u001b[0m\u001b[1;33m)\u001b[0m\u001b[1;33m\u001b[0m\u001b[1;33m\u001b[0m\u001b[0m\n\u001b[1;32m--> 242\u001b[1;33m         \u001b[1;32mraise\u001b[0m \u001b[0mexception_class\u001b[0m\u001b[1;33m(\u001b[0m\u001b[0mmessage\u001b[0m\u001b[1;33m,\u001b[0m \u001b[0mscreen\u001b[0m\u001b[1;33m,\u001b[0m \u001b[0mstacktrace\u001b[0m\u001b[1;33m)\u001b[0m\u001b[1;33m\u001b[0m\u001b[1;33m\u001b[0m\u001b[0m\n\u001b[0m\u001b[0;32m    243\u001b[0m \u001b[1;33m\u001b[0m\u001b[0m\n\u001b[0;32m    244\u001b[0m     \u001b[1;32mdef\u001b[0m \u001b[0m_value_or_default\u001b[0m\u001b[1;33m(\u001b[0m\u001b[0mself\u001b[0m\u001b[1;33m,\u001b[0m \u001b[0mobj\u001b[0m\u001b[1;33m,\u001b[0m \u001b[0mkey\u001b[0m\u001b[1;33m,\u001b[0m \u001b[0mdefault\u001b[0m\u001b[1;33m)\u001b[0m\u001b[1;33m:\u001b[0m\u001b[1;33m\u001b[0m\u001b[1;33m\u001b[0m\u001b[0m\n",
      "\u001b[1;31mNoSuchElementException\u001b[0m: Message: no such element: Unable to locate element: {\"method\":\"xpath\",\"selector\":\"/html/body/form/table[2]/tbody/tr[1]/td[1]/table/tbody/tr/td/table/tbody/tr[8]/td/table/tbody/tr[1]/td\"}\n  (Session info: chrome=92.0.4515.159)\n"
     ]
    }
   ],
   "source": [
    "# Buscar na tela o botão para executar o relátorio\n",
    "driver.find_element_by_xpath('/html/body/form/table[2]/tbody/tr[1]/td[1]/table/tbody/tr/td/table/tbody/tr[8]/td/table/tbody/tr[1]/td').click()\n",
    "\n",
    "# Selecionar todos os projetos na tela\n",
    "driver.find_element_by_xpath('/html/body/form/table[2]/tbody/tr[1]/td[4]/table/tbody/tr/td[1]/table/tbody/tr/td/table[1]/tbody/tr[2]/td[2]/table/tbody/tr/td[1]/a').click()\n",
    "driver.find_element_by_xpath('/html/body/form/table[2]/tbody/tr[1]/td[4]/table/tbody/tr/td[1]/table/tbody/tr/td/table[1]/tbody/tr[1]/td[2]/a').click()\n",
    "\n",
    "time.sleep(2)\n",
    "# Iserir o periodo\n",
    "# VERIFICAR SE É POSSÍVEL DEIXAR ESSE CAMPO EM TEMPO DE EXECUÇÃO, OU LÓGICA PARA DISPARA TODO DIA 05 DO MÊS\n",
    "# Data Inicio\n",
    "driver.find_element_by_xpath('/html/body/form/table[2]/tbody/tr[1]/td[4]/table/tbody/tr/td[1]/table/tbody/tr/td/input[1]').click()\n",
    "driver.find_element_by_xpath('/html/body/form/table[2]/tbody/tr[1]/td[4]/table/tbody/tr/td[1]/table/tbody/tr/td/input[1]').send_keys(Keys.CONTROL , 'A')\n",
    "driver.find_element_by_xpath('/html/body/form/table[2]/tbody/tr[1]/td[4]/table/tbody/tr/td[1]/table/tbody/tr/td/input[1]').send_keys(Keys.DELETE)\n",
    "driver.find_element_by_xpath('/html/body/form/table[2]/tbody/tr[1]/td[4]/table/tbody/tr/td[1]/table/tbody/tr/td/input[1]').send_keys(data_inicio)\n",
    "\n",
    "time.sleep(2)\n",
    "# Data Fim\n",
    "driver.find_element_by_xpath('/html/body/form/table[2]/tbody/tr[1]/td[4]/table/tbody/tr/td[1]/table/tbody/tr/td/input[2]').click()\n",
    "driver.find_element_by_xpath('/html/body/form/table[2]/tbody/tr[1]/td[4]/table/tbody/tr/td[1]/table/tbody/tr/td/input[2]').send_keys(Keys.CONTROL , 'A')\n",
    "driver.find_element_by_xpath('/html/body/form/table[2]/tbody/tr[1]/td[4]/table/tbody/tr/td[1]/table/tbody/tr/td/input[2]').send_keys(Keys.DELETE)\n",
    "driver.find_element_by_xpath('/html/body/form/table[2]/tbody/tr[1]/td[4]/table/tbody/tr/td[1]/table/tbody/tr/td/input[2]').send_keys(data_fim)\n",
    "\n",
    "driver.find_element_by_xpath('/html/body/form/table[2]/tbody/tr[1]/td[4]/table/tbody/tr/td[1]/table/tbody/tr/td/input[5]').click()\n"
   ]
  },
  {
   "cell_type": "code",
   "execution_count": null,
   "id": "391dac1d",
   "metadata": {},
   "outputs": [],
   "source": [
    "#localizar o ponto onde darei 2 click´s\n",
    "pyautogui.click(355, 282, clicks=2)\n",
    "pyautogui.hotkey('ctrl','shift','end')\n",
    "time.sleep(5)\n",
    "\n",
    "pyautogui.hotkey('ctrl','c')\n",
    "\n",
    "time.sleep(2)\n",
    "pyautogui.press('win')\n",
    "time.sleep(2)\n",
    "pyautogui.write('Excel')\n",
    "time.sleep(2)\n",
    "pyautogui.press('enter')\n",
    "time.sleep(2)\n",
    "pyautogui.press('enter')\n",
    "time.sleep(2)\n",
    "pyautogui.hotkey('ctrl','v')\n",
    "\n",
    "#Fechar o navegador\n",
    "driver.close()"
   ]
  },
  {
   "cell_type": "markdown",
   "id": "a3daf227",
   "metadata": {},
   "source": [
    "Salvando o Excel"
   ]
  },
  {
   "cell_type": "code",
   "execution_count": null,
   "id": "73074ed0",
   "metadata": {},
   "outputs": [],
   "source": [
    "pyautogui.hotkey('ctrl','b')\n",
    "#solicitar inserir informação manual\n",
    "#como fazer para esse nome do arquivo não ser o mesmo sempre\n",
    "pyautogui.write('planilha')\n",
    "pyautogui.hotkey('tab')\n",
    "pyautogui.hotkey('tab')\n",
    "pyautogui.hotkey('tab')\n",
    "pyautogui.hotkey('tab')\n",
    "pyautogui.hotkey('tab')\n",
    "\n",
    "time.sleep(2)\n",
    "pyautogui.press('enter')\n",
    "time.sleep(5)\n",
    "# alt + f4 para fechar o excel\n",
    "pyautogui.hotkey('alt','f4')"
   ]
  },
  {
   "cell_type": "code",
   "execution_count": null,
   "id": "94ea8297",
   "metadata": {},
   "outputs": [],
   "source": [
    "#mover o aquivo para a pasta correta\n",
    "time.sleep(5)\n",
    "shutil.move('C:\\\\Users\\\\Lenovo\\\\OneDrive\\\\Documentos\\\\planilha.xlsx', 'C:\\\\Users\\\\Lenovo\\\\OneDrive\\\\01_Treinamentos\\\\Python\\\\Automacao_trijay')"
   ]
  },
  {
   "cell_type": "code",
   "execution_count": null,
   "id": "e9196db0",
   "metadata": {},
   "outputs": [],
   "source": [
    "#Importando a planilha para um dataframe\n",
    "apontamentos_df = pd.read_excel('planilha.xlsx')\n",
    "\n",
    "\n",
    "#Excluir coluna\n",
    "apontamentos_df = apontamentos_df.drop(\"< Voltar para Relatórios\", axis=1)\n",
    "\n",
    "#Alterar o nome das colunas\n",
    "apontamentos_df.rename(columns ={'Unnamed: 0' : 'Nome do Projeto', 'Unnamed: 1' : 'Gerente', 'Unnamed: 2' : 'Consultor', 'Unnamed: 3' : 'Horas' }, inplace = True)\n",
    "\n",
    "#Deletar linhas e colunas totalmente vazias\n",
    "apontamentos_df = apontamentos_df.dropna(how='all')\n",
    "\n",
    "#Deletar linhas duplicadas\n",
    "#apontamentos_df = apontamentos_df.drop_duplicates()\n",
    "\n",
    "#Deletar linha especifica\n",
    "apontamentos_df.drop(apontamentos_df.loc[apontamentos_df['Nome do Projeto']=='Nome do Projeto'].index, inplace=True)\n",
    "apontamentos_df.drop(apontamentos_df.loc[apontamentos_df['Nome do Projeto']=='Total de Horas Trabalhadas:'].index, inplace=True)\n",
    "apontamentos_df.drop(apontamentos_df.loc[apontamentos_df['Consultor']=='Total de Horas:'].index, inplace=True)\n",
    "\n",
    "#Preencher a linha de cima com o último valor\n",
    "apontamentos_df = apontamentos_df.ffill()\n",
    "\n",
    "#Excluir a segunda linha da planilha (data frame)\n",
    "apontamentos_df = apontamentos_df.drop(2, axis=0)\n",
    "\n",
    "# deletar a última linha\n",
    "apontamentos_df.drop(apontamentos_df.tail(1).index,inplace=True) \n",
    "\n",
    "display(apontamentos_df)\n"
   ]
  },
  {
   "cell_type": "code",
   "execution_count": null,
   "id": "782379b5",
   "metadata": {},
   "outputs": [],
   "source": [
    "#exportar a nova planilha trabalhada\n",
    "time.sleep(2)\n",
    "#lembrar da string {}\n",
    "apontamentos_df.to_excel('{}'.format(mes_arquivo)+'.xlsx', index=False)\n",
    "\n",
    "\n",
    "time.sleep(5)\n",
    "#Deletar planilha\n",
    "os.remove('C:\\\\Users\\\\Lenovo\\\\OneDrive\\\\01_Treinamentos\\\\Python\\\\Automacao_trijay\\\\planilha.xlsx')"
   ]
  },
  {
   "cell_type": "code",
   "execution_count": null,
   "id": "1109421c",
   "metadata": {},
   "outputs": [],
   "source": []
  }
 ],
 "metadata": {
  "kernelspec": {
   "display_name": "Python 3",
   "language": "python",
   "name": "python3"
  },
  "language_info": {
   "codemirror_mode": {
    "name": "ipython",
    "version": 3
   },
   "file_extension": ".py",
   "mimetype": "text/x-python",
   "name": "python",
   "nbconvert_exporter": "python",
   "pygments_lexer": "ipython3",
   "version": "3.8.8"
  }
 },
 "nbformat": 4,
 "nbformat_minor": 5
}
